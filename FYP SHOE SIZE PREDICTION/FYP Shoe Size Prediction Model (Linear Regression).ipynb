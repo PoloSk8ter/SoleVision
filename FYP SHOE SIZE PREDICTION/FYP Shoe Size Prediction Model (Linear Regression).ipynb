{
 "cells": [
  {
   "cell_type": "code",
   "execution_count": 1,
   "id": "41855422",
   "metadata": {},
   "outputs": [],
   "source": [
    "import pandas as pd \n",
    "import matplotlib.pyplot as plt \n",
    "import pickle\n",
    "\n",
    "from sklearn.model_selection import train_test_split\n",
    "from sklearn.preprocessing import LabelEncoder\n",
    "from sklearn.linear_model import LinearRegression\n",
    "from sklearn.metrics import mean_squared_error, r2_score\n",
    "from sklearn.metrics import accuracy_score, classification_report"
   ]
  },
  {
   "cell_type": "markdown",
   "id": "529d58b2",
   "metadata": {},
   "source": [
    "# Build Height to Feet Length Regression"
   ]
  },
  {
   "cell_type": "code",
   "execution_count": 2,
   "id": "98cc8a89",
   "metadata": {},
   "outputs": [],
   "source": [
    "df = pd.read_csv('Height Dataset.csv')"
   ]
  },
  {
   "cell_type": "code",
   "execution_count": 3,
   "id": "7420fb99",
   "metadata": {},
   "outputs": [
    {
     "data": {
      "text/html": [
       "<div>\n",
       "<style scoped>\n",
       "    .dataframe tbody tr th:only-of-type {\n",
       "        vertical-align: middle;\n",
       "    }\n",
       "\n",
       "    .dataframe tbody tr th {\n",
       "        vertical-align: top;\n",
       "    }\n",
       "\n",
       "    .dataframe thead th {\n",
       "        text-align: right;\n",
       "    }\n",
       "</style>\n",
       "<table border=\"1\" class=\"dataframe\">\n",
       "  <thead>\n",
       "    <tr style=\"text-align: right;\">\n",
       "      <th></th>\n",
       "      <th>Gender</th>\n",
       "      <th>Height (cm)</th>\n",
       "      <th>Foot Length (cm)</th>\n",
       "    </tr>\n",
       "  </thead>\n",
       "  <tbody>\n",
       "    <tr>\n",
       "      <th>0</th>\n",
       "      <td>Girls</td>\n",
       "      <td>165.0</td>\n",
       "      <td>21.0</td>\n",
       "    </tr>\n",
       "    <tr>\n",
       "      <th>1</th>\n",
       "      <td>Girls</td>\n",
       "      <td>168.0</td>\n",
       "      <td>18.0</td>\n",
       "    </tr>\n",
       "    <tr>\n",
       "      <th>2</th>\n",
       "      <td>Girls</td>\n",
       "      <td>155.0</td>\n",
       "      <td>27.0</td>\n",
       "    </tr>\n",
       "    <tr>\n",
       "      <th>3</th>\n",
       "      <td>Girls</td>\n",
       "      <td>163.0</td>\n",
       "      <td>23.0</td>\n",
       "    </tr>\n",
       "    <tr>\n",
       "      <th>4</th>\n",
       "      <td>Girls</td>\n",
       "      <td>170.0</td>\n",
       "      <td>30.0</td>\n",
       "    </tr>\n",
       "  </tbody>\n",
       "</table>\n",
       "</div>"
      ],
      "text/plain": [
       "  Gender  Height (cm)  Foot Length (cm)\n",
       "0  Girls        165.0              21.0\n",
       "1  Girls        168.0              18.0\n",
       "2  Girls        155.0              27.0\n",
       "3  Girls        163.0              23.0\n",
       "4  Girls        170.0              30.0"
      ]
     },
     "execution_count": 3,
     "metadata": {},
     "output_type": "execute_result"
    }
   ],
   "source": [
    "df.head()"
   ]
  },
  {
   "cell_type": "code",
   "execution_count": 4,
   "id": "aaa3818c",
   "metadata": {},
   "outputs": [
    {
     "data": {
      "text/plain": [
       "(864, 3)"
      ]
     },
     "execution_count": 4,
     "metadata": {},
     "output_type": "execute_result"
    }
   ],
   "source": [
    "df.shape"
   ]
  },
  {
   "cell_type": "code",
   "execution_count": 5,
   "id": "cabcc112",
   "metadata": {},
   "outputs": [],
   "source": [
    "df = df[df['Foot Length (cm)'] >= 22]"
   ]
  },
  {
   "cell_type": "code",
   "execution_count": 6,
   "id": "d0fb6d87",
   "metadata": {},
   "outputs": [
    {
     "data": {
      "text/plain": [
       "(682, 3)"
      ]
     },
     "execution_count": 6,
     "metadata": {},
     "output_type": "execute_result"
    }
   ],
   "source": [
    "df.shape"
   ]
  },
  {
   "cell_type": "code",
   "execution_count": 7,
   "id": "11870547",
   "metadata": {},
   "outputs": [
    {
     "data": {
      "image/png": "[encoded data removed]",
      "text/plain": [
       "<Figure size 640x480 with 1 Axes>"
      ]
     },
     "metadata": {},
     "output_type": "display_data"
    }
   ],
   "source": [
    "x_axis =df[\"Height (cm)\"]\n",
    "y_axis =df[\"Foot Length (cm)\"]\n",
    "plt.scatter(x_axis, y_axis, c =\"blue\")\n",
    " \n",
    "# To show the plot\n",
    "plt.show()"
   ]
  },
  {
   "cell_type": "code",
   "execution_count": 8,
   "id": "f3fc1673",
   "metadata": {},
   "outputs": [
    {
     "data": {
      "image/png": "[encoded data removed]",
      "text/plain": [
       "<Figure size 640x480 with 1 Axes>"
      ]
     },
     "metadata": {},
     "output_type": "display_data"
    }
   ],
   "source": [
    "\n",
    "\n",
    "# Calculate the height-to-foot ratio for each data point\n",
    "df[\"Height-to-Foot Ratio\"] = df[\"Height (cm)\"] / df[\"Foot Length (cm)\"]\n",
    "\n",
    "# Define the range for the acceptable ratio (6 to 7)\n",
    "ratio_lower_limit = 6\n",
    "ratio_upper_limit = 7\n",
    "\n",
    "# Create a filter to select data points within the acceptable ratio range\n",
    "filtered_df = df[(df[\"Height-to-Foot Ratio\"] >= ratio_lower_limit) & (df[\"Height-to-Foot Ratio\"] <= ratio_upper_limit)]\n",
    "\n",
    "# Create a scatter plot for the filtered data\n",
    "x_axis = filtered_df[\"Height (cm)\"]\n",
    "y_axis = filtered_df[\"Foot Length (cm)\"]\n",
    "plt.scatter(x_axis, y_axis, c=\"blue\")\n",
    "\n",
    "# Set labels for the axes\n",
    "plt.xlabel(\"Height (cm)\")\n",
    "plt.ylabel(\"Foot Length (cm)\")\n",
    "\n",
    "# Show the plot\n",
    "plt.show()"
   ]
  },
  {
   "cell_type": "code",
   "execution_count": 9,
   "id": "d13cba66",
   "metadata": {},
   "outputs": [
    {
     "data": {
      "text/plain": [
       "(408, 4)"
      ]
     },
     "execution_count": 9,
     "metadata": {},
     "output_type": "execute_result"
    }
   ],
   "source": [
    "filtered_df.shape"
   ]
  },
  {
   "cell_type": "code",
   "execution_count": 10,
   "id": "73a6a993",
   "metadata": {},
   "outputs": [
    {
     "name": "stderr",
     "output_type": "stream",
     "text": [
      "C:\\Users\\haoting\\AppData\\Local\\Temp\\ipykernel_26720\\2360194869.py:2: SettingWithCopyWarning: \n",
      "A value is trying to be set on a copy of a slice from a DataFrame.\n",
      "Try using .loc[row_indexer,col_indexer] = value instead\n",
      "\n",
      "See the caveats in the documentation: https://pandas.pydata.org/pandas-docs/stable/user_guide/indexing.html#returning-a-view-versus-a-copy\n",
      "  filtered_df['Gender_Encoded'] = label_encoder.fit_transform(filtered_df['Gender'])\n"
     ]
    }
   ],
   "source": [
    "label_encoder = LabelEncoder()\n",
    "filtered_df['Gender_Encoded'] = label_encoder.fit_transform(filtered_df['Gender'])\n"
   ]
  },
  {
   "cell_type": "code",
   "execution_count": 11,
   "id": "6591f728",
   "metadata": {},
   "outputs": [
    {
     "data": {
      "text/html": [
       "<div>\n",
       "<style scoped>\n",
       "    .dataframe tbody tr th:only-of-type {\n",
       "        vertical-align: middle;\n",
       "    }\n",
       "\n",
       "    .dataframe tbody tr th {\n",
       "        vertical-align: top;\n",
       "    }\n",
       "\n",
       "    .dataframe thead th {\n",
       "        text-align: right;\n",
       "    }\n",
       "</style>\n",
       "<table border=\"1\" class=\"dataframe\">\n",
       "  <thead>\n",
       "    <tr style=\"text-align: right;\">\n",
       "      <th></th>\n",
       "      <th>Gender</th>\n",
       "      <th>Height (cm)</th>\n",
       "      <th>Foot Length (cm)</th>\n",
       "      <th>Height-to-Foot Ratio</th>\n",
       "      <th>Gender_Encoded</th>\n",
       "    </tr>\n",
       "  </thead>\n",
       "  <tbody>\n",
       "    <tr>\n",
       "      <th>6</th>\n",
       "      <td>Girls</td>\n",
       "      <td>165.0</td>\n",
       "      <td>26.0</td>\n",
       "      <td>6.346154</td>\n",
       "      <td>1</td>\n",
       "    </tr>\n",
       "    <tr>\n",
       "      <th>8</th>\n",
       "      <td>Girls</td>\n",
       "      <td>162.0</td>\n",
       "      <td>24.0</td>\n",
       "      <td>6.750000</td>\n",
       "      <td>1</td>\n",
       "    </tr>\n",
       "    <tr>\n",
       "      <th>9</th>\n",
       "      <td>Girls</td>\n",
       "      <td>155.0</td>\n",
       "      <td>23.0</td>\n",
       "      <td>6.739130</td>\n",
       "      <td>1</td>\n",
       "    </tr>\n",
       "    <tr>\n",
       "      <th>12</th>\n",
       "      <td>Girls</td>\n",
       "      <td>165.0</td>\n",
       "      <td>24.0</td>\n",
       "      <td>6.875000</td>\n",
       "      <td>1</td>\n",
       "    </tr>\n",
       "    <tr>\n",
       "      <th>13</th>\n",
       "      <td>Girls</td>\n",
       "      <td>150.0</td>\n",
       "      <td>22.0</td>\n",
       "      <td>6.818182</td>\n",
       "      <td>1</td>\n",
       "    </tr>\n",
       "  </tbody>\n",
       "</table>\n",
       "</div>"
      ],
      "text/plain": [
       "   Gender  Height (cm)  Foot Length (cm)  Height-to-Foot Ratio  Gender_Encoded\n",
       "6   Girls        165.0              26.0              6.346154               1\n",
       "8   Girls        162.0              24.0              6.750000               1\n",
       "9   Girls        155.0              23.0              6.739130               1\n",
       "12  Girls        165.0              24.0              6.875000               1\n",
       "13  Girls        150.0              22.0              6.818182               1"
      ]
     },
     "execution_count": 11,
     "metadata": {},
     "output_type": "execute_result"
    }
   ],
   "source": [
    "filtered_df.head()"
   ]
  },
  {
   "cell_type": "markdown",
   "id": "343daeeb",
   "metadata": {},
   "source": [
    "### Regression Model"
   ]
  },
  {
   "cell_type": "code",
   "execution_count": 12,
   "id": "6ddb2640",
   "metadata": {},
   "outputs": [],
   "source": [
    "# Separate the dataset into two based on 'Gender_Encoded'\n",
    "data_male = filtered_df[filtered_df['Gender_Encoded'] == 0]\n",
    "data_female = filtered_df[filtered_df['Gender_Encoded'] == 1]"
   ]
  },
  {
   "cell_type": "markdown",
   "id": "5e587e9a",
   "metadata": {},
   "source": [
    "### Define the independent variable (X) and the dependent variable (y) for both groups"
   ]
  },
  {
   "cell_type": "code",
   "execution_count": 13,
   "id": "12ad0c0a",
   "metadata": {},
   "outputs": [],
   "source": [
    "X_male = data_male[['Height (cm)']]\n",
    "y_male = data_male['Foot Length (cm)']\n",
    "\n",
    "X_female = data_female[['Height (cm)']]\n",
    "y_female = data_female['Foot Length (cm)']"
   ]
  },
  {
   "cell_type": "code",
   "execution_count": 14,
   "id": "7b6e5de0",
   "metadata": {},
   "outputs": [],
   "source": [
    "# Split the data into training and testing sets for both groups\n",
    "X_male_train, X_male_test, y_male_train, y_male_test = train_test_split(X_male, y_male, test_size=0.3, random_state=42)\n",
    "X_female_train, X_female_test, y_female_train, y_female_test = train_test_split(X_female, y_female, test_size=0.3, random_state=42)"
   ]
  },
  {
   "cell_type": "markdown",
   "id": "42428e5b",
   "metadata": {},
   "source": [
    "### Linear Regression Model"
   ]
  },
  {
   "cell_type": "code",
   "execution_count": 17,
   "id": "45239ad2",
   "metadata": {},
   "outputs": [
    {
     "data": {
      "text/html": [
       "<style>#sk-container-id-1 {color: black;background-color: white;}#sk-container-id-1 pre{padding: 0;}#sk-container-id-1 div.sk-toggleable {background-color: white;}#sk-container-id-1 label.sk-toggleable__label {cursor: pointer;display: block;width: 100%;margin-bottom: 0;padding: 0.3em;box-sizing: border-box;text-align: center;}#sk-container-id-1 label.sk-toggleable__label-arrow:before {content: \"▸\";float: left;margin-right: 0.25em;color: #696969;}#sk-container-id-1 label.sk-toggleable__label-arrow:hover:before {color: black;}#sk-container-id-1 div.sk-estimator:hover label.sk-toggleable__label-arrow:before {color: black;}#sk-container-id-1 div.sk-toggleable__content {max-height: 0;max-width: 0;overflow: hidden;text-align: left;background-color: #f0f8ff;}#sk-container-id-1 div.sk-toggleable__content pre {margin: 0.2em;color: black;border-radius: 0.25em;background-color: #f0f8ff;}#sk-container-id-1 input.sk-toggleable__control:checked~div.sk-toggleable__content {max-height: 200px;max-width: 100%;overflow: auto;}#sk-container-id-1 input.sk-toggleable__control:checked~label.sk-toggleable__label-arrow:before {content: \"▾\";}#sk-container-id-1 div.sk-estimator input.sk-toggleable__control:checked~label.sk-toggleable__label {background-color: #d4ebff;}#sk-container-id-1 div.sk-label input.sk-toggleable__control:checked~label.sk-toggleable__label {background-color: #d4ebff;}#sk-container-id-1 input.sk-hidden--visually {border: 0;clip: rect(1px 1px 1px 1px);clip: rect(1px, 1px, 1px, 1px);height: 1px;margin: -1px;overflow: hidden;padding: 0;position: absolute;width: 1px;}#sk-container-id-1 div.sk-estimator {font-family: monospace;background-color: #f0f8ff;border: 1px dotted black;border-radius: 0.25em;box-sizing: border-box;margin-bottom: 0.5em;}#sk-container-id-1 div.sk-estimator:hover {background-color: #d4ebff;}#sk-container-id-1 div.sk-parallel-item::after {content: \"\";width: 100%;border-bottom: 1px solid gray;flex-grow: 1;}#sk-container-id-1 div.sk-label:hover label.sk-toggleable__label {background-color: #d4ebff;}#sk-container-id-1 div.sk-serial::before {content: \"\";position: absolute;border-left: 1px solid gray;box-sizing: border-box;top: 0;bottom: 0;left: 50%;z-index: 0;}#sk-container-id-1 div.sk-serial {display: flex;flex-direction: column;align-items: center;background-color: white;padding-right: 0.2em;padding-left: 0.2em;position: relative;}#sk-container-id-1 div.sk-item {position: relative;z-index: 1;}#sk-container-id-1 div.sk-parallel {display: flex;align-items: stretch;justify-content: center;background-color: white;position: relative;}#sk-container-id-1 div.sk-item::before, #sk-container-id-1 div.sk-parallel-item::before {content: \"\";position: absolute;border-left: 1px solid gray;box-sizing: border-box;top: 0;bottom: 0;left: 50%;z-index: -1;}#sk-container-id-1 div.sk-parallel-item {display: flex;flex-direction: column;z-index: 1;position: relative;background-color: white;}#sk-container-id-1 div.sk-parallel-item:first-child::after {align-self: flex-end;width: 50%;}#sk-container-id-1 div.sk-parallel-item:last-child::after {align-self: flex-start;width: 50%;}#sk-container-id-1 div.sk-parallel-item:only-child::after {width: 0;}#sk-container-id-1 div.sk-dashed-wrapped {border: 1px dashed gray;margin: 0 0.4em 0.5em 0.4em;box-sizing: border-box;padding-bottom: 0.4em;background-color: white;}#sk-container-id-1 div.sk-label label {font-family: monospace;font-weight: bold;display: inline-block;line-height: 1.2em;}#sk-container-id-1 div.sk-label-container {text-align: center;}#sk-container-id-1 div.sk-container {/* jupyter's `normalize.less` sets `[hidden] { display: none; }` but bootstrap.min.css set `[hidden] { display: none !important; }` so we also need the `!important` here to be able to override the default hidden behavior on the sphinx rendered scikit-learn.org. See: https://github.com/scikit-learn/scikit-learn/issues/21755 */display: inline-block !important;position: relative;}#sk-container-id-1 div.sk-text-repr-fallback {display: none;}</style><div id=\"sk-container-id-1\" class=\"sk-top-container\"><div class=\"sk-text-repr-fallback\"><pre>LinearRegression()</pre><b>In a Jupyter environment, please rerun this cell to show the HTML representation or trust the notebook. <br />On GitHub, the HTML representation is unable to render, please try loading this page with nbviewer.org.</b></div><div class=\"sk-container\" hidden><div class=\"sk-item\"><div class=\"sk-estimator sk-toggleable\"><input class=\"sk-toggleable__control sk-hidden--visually\" id=\"sk-estimator-id-1\" type=\"checkbox\" checked><label for=\"sk-estimator-id-1\" class=\"sk-toggleable__label sk-toggleable__label-arrow\">LinearRegression</label><div class=\"sk-toggleable__content\"><pre>LinearRegression()</pre></div></div></div></div></div>"
      ],
      "text/plain": [
       "LinearRegression()"
      ]
     },
     "execution_count": 17,
     "metadata": {},
     "output_type": "execute_result"
    }
   ],
   "source": [
    "model_male = LinearRegression()\n",
    "model_male.fit(X_male_train, y_male_train)\n",
    "\n",
    "model_female = LinearRegression()\n",
    "model_female.fit(X_female_train, y_female_train)"
   ]
  },
  {
   "cell_type": "code",
   "execution_count": 18,
   "id": "f234f2eb",
   "metadata": {},
   "outputs": [],
   "source": [
    "y_male_pred = model_male.predict(X_male_test)\n",
    "y_female_pred = model_female.predict(X_female_test)"
   ]
  },
  {
   "cell_type": "markdown",
   "id": "78b932e9",
   "metadata": {},
   "source": [
    "### Model Evaluation"
   ]
  },
  {
   "cell_type": "code",
   "execution_count": 19,
   "id": "bb9896a9",
   "metadata": {},
   "outputs": [
    {
     "name": "stdout",
     "output_type": "stream",
     "text": [
      "MALE\n",
      "Mean Squared Error (MSE): 1.32\n",
      "R-squared (R2) Score: 0.64\n",
      "\n",
      "FEMALE\n",
      "Mean Squared Error (MSE): 1.25\n",
      "R-squared (R2) Score: 0.56\n"
     ]
    }
   ],
   "source": [
    "# Calculate Mean Squared Error (MSE) and R-squared (R2) for both groups\n",
    "mse_male = mean_squared_error(y_male_test, y_male_pred)\n",
    "r2_male = r2_score(y_male_test, y_male_pred)\n",
    "\n",
    "mse_female = mean_squared_error(y_female_test, y_female_pred)\n",
    "r2_female = r2_score(y_female_test, y_female_pred)\n",
    "\n",
    "\n",
    "print(f\"MALE\")\n",
    "print(f\"Mean Squared Error (MSE): {mse_male:.2f}\")\n",
    "print(f\"R-squared (R2) Score: {r2_male:.2f}\")\n",
    "print(f\"\")\n",
    "print(f\"FEMALE\")\n",
    "print(f\"Mean Squared Error (MSE): {mse_female:.2f}\")\n",
    "print(f\"R-squared (R2) Score: {r2_female:.2f}\")"
   ]
  },
  {
   "cell_type": "markdown",
   "id": "65436b5a",
   "metadata": {},
   "source": [
    "### Data Presentation"
   ]
  },
  {
   "cell_type": "code",
   "execution_count": 20,
   "id": "fc35e0bf",
   "metadata": {},
   "outputs": [
    {
     "data": {
      "image/png": "[encoded data removed]",
      "text/plain": [
       "<Figure size 1200x500 with 2 Axes>"
      ]
     },
     "metadata": {},
     "output_type": "display_data"
    }
   ],
   "source": [
    "# Create separate plots for both groups\n",
    "plt.figure(1, figsize=(12, 5))\n",
    "plt.subplot(121)  # 1 row, 2 columns, plot 1\n",
    "plt.scatter(X_male, y_male, color='blue', label='Male Data')\n",
    "plt.plot(X_male_test, y_male_pred, color='blue', linewidth=2, label='Male Prediction')\n",
    "plt.xlabel('Height (cm)')\n",
    "plt.ylabel('Foot Length (cm)')\n",
    "plt.title('Male Regression')\n",
    "plt.text(150, 25, f'MSE: {mse_male:.2f}\\nR2: {r2_male:.2f}', fontsize=10, verticalalignment='bottom')\n",
    "plt.legend()\n",
    "\n",
    "plt.subplot(122)  # 1 row, 2 columns, plot 2\n",
    "plt.scatter(X_female, y_female, color='red', label='Female Data')\n",
    "plt.plot(X_female_test, y_female_pred, color='red', linewidth=2, label='Female Prediction')\n",
    "plt.xlabel('Height (cm)')\n",
    "plt.ylabel('Foot Length (cm)')\n",
    "plt.title('Female Regression')\n",
    "plt.text(150, 25, f'MSE: {mse_female:.2f}\\nR2: {r2_female:.2f}', fontsize=10, verticalalignment='bottom')\n",
    "plt.legend()\n",
    "\n",
    "plt.tight_layout()  # Ensures proper spacing\n",
    "\n",
    "plt.show()"
   ]
  },
  {
   "cell_type": "markdown",
   "id": "bd2b54bb",
   "metadata": {},
   "source": [
    "### Prediction Function"
   ]
  },
  {
   "cell_type": "code",
   "execution_count": 21,
   "id": "e5ed940a",
   "metadata": {},
   "outputs": [],
   "source": [
    "\n",
    "# Size charts for different brands and genders (as dictionaries)\n",
    "adidas_sizes = {\n",
    "    6: 24.2, 6.5: 24.6, 7: 25.0, 7.5: 25.5, 8: 25.9, 8.5: 26.3, 9: 26.7, 9.5: 27.1, 10: 27.6, 10.5: 28.0, 11: 28.4, 11.5: 28.8, 12: 29.3\n",
    "}\n",
    "\n",
    "nike_sizes = {\n",
    "    6: 24.5, 6.5: 25.0, 7: 25.4, 7.5: 25.8, 8: 26.2, 8.5: 26.7, 9: 27.1, 9.5: 27.5, 10: 27.9, 10.5: 28.3, 11: 28.8, 11.5: 29.2, 12: 29.6\n",
    "}\n",
    "\n",
    "# Puma sizes for Men\n",
    "puma_sizes = {\n",
    "    6: 25.0, 6.5: 25.5, 7: 26.0, 7.5: 26.5, 8: 27.0, 8.5: 27.5, 9: 28.0, 9.5: 28.5, 10: 29.0, 10.5: 29.5, 11: 30.0, 11.5: 30.5, 12: 31.0\n",
    "}\n",
    "\n",
    "# Reebok sizes for Men\n",
    "reebok_sizes = {\n",
    "    6: 25, 6.5: 25.5, 7: 26.0, 7.5: 26.5, 8: 27, 8.5: 27.5, 9: 28, 9.5: 28.5, 10: 29, 10.5: 29.5, 11: 30, 11.5: 30.5, 12: 31\n",
    "}\n",
    "\n",
    "# New Balance sizes for Men\n",
    "new_balance_sizes = {\n",
    "    6: 24, 6.5: 24.5, 7: 25, 7.5: 25.5, 8: 26, 8.5: 26.5, 9: 27, 9.5: 27.5, 10: 28, 10.5: 28.5, 11: 29, 11.5: 29.5, 12: 30\n",
    "}\n"
   ]
  },
  {
   "cell_type": "code",
   "execution_count": 22,
   "id": "7c6f2ad6",
   "metadata": {},
   "outputs": [],
   "source": [
    "def predict_foot_length(height, gender):\n",
    "    if gender == \"Male\":\n",
    "        predicted_foot_length = model_male.predict([[height]])  # Use the 'model_male' for male predictions\n",
    "    else:\n",
    "        predicted_foot_length = model_female.predict([[height]])  # Use the 'model_female' for female predictions\n",
    "    return predicted_foot_length[0]  # Return the predicted foot length"
   ]
  },
  {
   "cell_type": "code",
   "execution_count": 24,
   "id": "93bb706c",
   "metadata": {},
   "outputs": [],
   "source": [
    "# Function to get the size chart based on the brand\n",
    "def get_size_chart(brand):\n",
    "    if brand == \"Nike\":\n",
    "        return nike_sizes\n",
    "    elif brand == \"Adidas\":\n",
    "        return adidas_sizes\n",
    "    elif brand == \"Reebok\":\n",
    "        return reebok_sizes\n",
    "    elif brand == \"Puma\":\n",
    "        return puma_sizes\n",
    "    elif brand == \"New Balance\":\n",
    "        return new_balance_sizes\n",
    "    # Add other brand and gender conditions as needed\n"
   ]
  },
  {
   "cell_type": "code",
   "execution_count": 25,
   "id": "5c6ba05b",
   "metadata": {},
   "outputs": [],
   "source": [
    "def predict_brand_size(height,gender,brand):\n",
    "    predicted_length = predict_foot_length(height, gender)\n",
    "    selected_size_chart = get_size_chart(brand)\n",
    "    # Find the nearest size in the selected size chart\n",
    "    nearest_size = min(selected_size_chart, key=lambda x: abs(selected_size_chart[x] - predicted_length))\n",
    "    # The nearest recognized size based on the brand's size chart\n",
    "    print(f\"Predicted Feet Length:\\t{predicted_length} cm \")\n",
    "    print(f\"Most Suitable Size in {brand}:\\tUK {nearest_size} \")"
   ]
  },
  {
   "cell_type": "code",
   "execution_count": 27,
   "id": "9cdd3d7d",
   "metadata": {},
   "outputs": [
    {
     "name": "stdout",
     "output_type": "stream",
     "text": [
      "Predicted Feet Length:\t24.829025244272714 cm \n",
      "Most Suitable Size in Nike:\tUK 6.5 \n"
     ]
    },
    {
     "name": "stderr",
     "output_type": "stream",
     "text": [
      "D:\\Anaconda\\lib\\site-packages\\sklearn\\base.py:420: UserWarning: X does not have valid feature names, but LinearRegression was fitted with feature names\n",
      "  warnings.warn(\n"
     ]
    }
   ],
   "source": [
    "predict_brand_size(165,\"Female\",\"Nike\")"
   ]
  },
  {
   "cell_type": "code",
   "execution_count": 58,
   "id": "8285f030",
   "metadata": {},
   "outputs": [],
   "source": [
    "# Save the trained models\n",
    "with open('model_male.pkl', 'wb') as file:\n",
    "    pickle.dump(model_male, file)\n",
    "\n",
    "with open('model_female.pkl', 'wb') as file:\n",
    "    pickle.dump(model_female, file)"
   ]
  },
  {
   "cell_type": "code",
   "execution_count": null,
   "id": "eb835908",
   "metadata": {},
   "outputs": [],
   "source": []
  }
 ],
 "metadata": {
  "kernelspec": {
   "display_name": "Python 3 (ipykernel)",
   "language": "python",
   "name": "python3"
  },
  "language_info": {
   "codemirror_mode": {
    "name": "ipython",
    "version": 3
   },
   "file_extension": ".py",
   "mimetype": "text/x-python",
   "name": "python",
   "nbconvert_exporter": "python",
   "pygments_lexer": "ipython3",
   "version": "3.10.9"
  }
 },
 "nbformat": 4,
 "nbformat_minor": 5
}
